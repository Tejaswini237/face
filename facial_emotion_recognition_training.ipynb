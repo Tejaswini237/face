{
  "cells": [
    {
      "cell_type": "code",
      "execution_count": 1,
      "id": "5ed29a2e",
      "metadata": {
        "_cell_guid": "b1076dfc-b9ad-4769-8c92-a6c4dae69d19",
        "_kg_hide-output": true,
        "_uuid": "8f2839f25d086af736a60e9eeb907d3b93b6e0e5",
        "execution": {
          "iopub.execute_input": "2021-10-03T04:38:11.990187Z",
          "iopub.status.busy": "2021-10-03T04:38:11.988156Z",
          "iopub.status.idle": "2021-10-03T04:38:38.425507Z",
          "shell.execute_reply": "2021-10-03T04:38:38.424244Z",
          "shell.execute_reply.started": "2021-10-02T05:26:00.320451Z"
        },
        "id": "5ed29a2e",
        "outputId": "6d272b83-206e-4dbb-c1cd-1f89d68fe114",
        "papermill": {
          "duration": 26.460349,
          "end_time": "2021-10-03T04:38:38.425837",
          "exception": false,
          "start_time": "2021-10-03T04:38:11.965488",
          "status": "completed"
        },
        "scrolled": true,
        "tags": []
      },
      "outputs": [],
      "source": [
        "# This Python 3 environment comes with many helpful analytics libraries installed\n",
        "# It is defined by the kaggle/python Docker image: https://github.com/kaggle/docker-python\n",
        "# For example, here's several helpful packages to load\n",
        "\n",
        "import numpy as np # linear algebra\n",
        "import pandas as pd # data processing, CSV file I/O (e.g. pd.read_csv)\n",
        "\n",
        "# Input data files are available in the read-only \"../input/\" directory\n",
        "# For example, running this (by clicking run or pressing Shift+Enter) will list all files under the input directory\n",
        "\n",
        "import os\n",
        "for dirname, _, filenames in os.walk('/kaggle/input'):\n",
        "    for filename in filenames:\n",
        "        print(os.path.join(dirname, filename))\n",
        "\n",
        "# You can write up to 20GB to the current directory (/kaggle/working/) that gets preserved as output when you create a version using \"Save & Run All\" \n",
        "# You can also write temporary files to /kaggle/temp/, but they won't be saved outside of the current session"
      ]
    },
    {
      "cell_type": "code",
      "execution_count": 2,
      "id": "00cf1e55",
      "metadata": {
        "execution": {
          "iopub.execute_input": "2021-10-03T04:38:38.641691Z",
          "iopub.status.busy": "2021-10-03T04:38:38.640306Z",
          "iopub.status.idle": "2021-10-03T04:38:38.643735Z",
          "shell.execute_reply": "2021-10-03T04:38:38.642964Z",
          "shell.execute_reply.started": "2021-10-02T05:26:04.92059Z"
        },
        "id": "00cf1e55",
        "papermill": {
          "duration": 0.097132,
          "end_time": "2021-10-03T04:38:38.643913",
          "exception": false,
          "start_time": "2021-10-03T04:38:38.546781",
          "status": "completed"
        },
        "tags": []
      },
      "outputs": [],
      "source": [
        "import numpy as np\n",
        "import pandas as pd\n",
        "import matplotlib.pyplot as plt\n",
        "import warnings\n",
        "warnings.filterwarnings('ignore')"
      ]
    },
    {
      "cell_type": "code",
      "execution_count": 3,
      "id": "d9ba609a",
      "metadata": {
        "execution": {
          "iopub.execute_input": "2021-10-03T04:38:38.819734Z",
          "iopub.status.busy": "2021-10-03T04:38:38.818800Z",
          "iopub.status.idle": "2021-10-03T04:38:38.821415Z",
          "shell.execute_reply": "2021-10-03T04:38:38.821907Z",
          "shell.execute_reply.started": "2021-10-02T05:26:04.925899Z"
        },
        "id": "d9ba609a",
        "papermill": {
          "duration": 0.093154,
          "end_time": "2021-10-03T04:38:38.822058",
          "exception": false,
          "start_time": "2021-10-03T04:38:38.728904",
          "status": "completed"
        },
        "tags": []
      },
      "outputs": [],
      "source": [
        "train_dir = '../input/fer2013/train'\n",
        "test_dir = '../input/fer2013/test'"
      ]
    },
    {
      "cell_type": "code",
      "execution_count": 4,
      "id": "5422dc4c",
      "metadata": {
        "execution": {
          "iopub.execute_input": "2021-10-03T04:38:39.001235Z",
          "iopub.status.busy": "2021-10-03T04:38:39.000356Z",
          "iopub.status.idle": "2021-10-03T04:38:44.268877Z",
          "shell.execute_reply": "2021-10-03T04:38:44.268017Z",
          "shell.execute_reply.started": "2021-10-02T05:26:04.938539Z"
        },
        "id": "5422dc4c",
        "outputId": "5f914717-1af7-421b-cba9-022f45257c92",
        "papermill": {
          "duration": 5.361189,
          "end_time": "2021-10-03T04:38:44.269028",
          "exception": false,
          "start_time": "2021-10-03T04:38:38.907839",
          "status": "completed"
        },
        "tags": []
      },
      "outputs": [
        {
          "ename": "ModuleNotFoundError",
          "evalue": "No module named 'tensorflow'",
          "output_type": "error",
          "traceback": [
            "\u001b[1;31m---------------------------------------------------------------------------\u001b[0m",
            "\u001b[1;31mModuleNotFoundError\u001b[0m                       Traceback (most recent call last)",
            "Cell \u001b[1;32mIn[4], line 1\u001b[0m\n\u001b[1;32m----> 1\u001b[0m \u001b[38;5;28;01mimport\u001b[39;00m\u001b[38;5;250m \u001b[39m\u001b[38;5;21;01mtensorflow\u001b[39;00m\u001b[38;5;250m \u001b[39m\u001b[38;5;28;01mas\u001b[39;00m\u001b[38;5;250m \u001b[39m\u001b[38;5;21;01mtf\u001b[39;00m\n\u001b[0;32m      2\u001b[0m \u001b[38;5;28;01mfrom\u001b[39;00m\u001b[38;5;250m \u001b[39m\u001b[38;5;21;01mtensorflow\u001b[39;00m\u001b[38;5;21;01m.\u001b[39;00m\u001b[38;5;21;01mkeras\u001b[39;00m\u001b[38;5;21;01m.\u001b[39;00m\u001b[38;5;21;01mpreprocessing\u001b[39;00m\u001b[38;5;250m \u001b[39m\u001b[38;5;28;01mimport\u001b[39;00m image\n\u001b[0;32m      3\u001b[0m img \u001b[38;5;241m=\u001b[39m image\u001b[38;5;241m.\u001b[39mload_img(\u001b[38;5;124m'\u001b[39m\u001b[38;5;124m../input/fer2013/train/happy/Training_10181727.jpg\u001b[39m\u001b[38;5;124m'\u001b[39m, target_size\u001b[38;5;241m=\u001b[39m(\u001b[38;5;241m48\u001b[39m,\u001b[38;5;241m48\u001b[39m), color_mode\u001b[38;5;241m=\u001b[39m\u001b[38;5;124m'\u001b[39m\u001b[38;5;124mgrayscale\u001b[39m\u001b[38;5;124m'\u001b[39m)\n",
            "\u001b[1;31mModuleNotFoundError\u001b[0m: No module named 'tensorflow'"
          ]
        }
      ],
      "source": [
        "import tensorflow as tf\n",
        "from tensorflow.keras.preprocessing import image\n",
        "img = image.load_img('../input/fer2013/train/happy/Training_10181727.jpg', target_size=(48,48), color_mode='grayscale')\n",
        "plt.imshow(img)"
      ]
    },
    {
      "cell_type": "code",
      "execution_count": null,
      "id": "f9e80f79",
      "metadata": {
        "_kg_hide-output": true,
        "execution": {
          "iopub.execute_input": "2021-10-03T04:38:44.459212Z",
          "iopub.status.busy": "2021-10-03T04:38:44.458306Z",
          "iopub.status.idle": "2021-10-03T04:38:46.427937Z",
          "shell.execute_reply": "2021-10-03T04:38:46.428484Z",
          "shell.execute_reply.started": "2021-10-02T05:26:30.990067Z"
        },
        "id": "f9e80f79",
        "outputId": "a08b2671-dcda-434c-98a9-49c947b70780",
        "papermill": {
          "duration": 2.067639,
          "end_time": "2021-10-03T04:38:46.428679",
          "exception": false,
          "start_time": "2021-10-03T04:38:44.361040",
          "status": "completed"
        },
        "tags": []
      },
      "outputs": [
        {
          "name": "stdout",
          "output_type": "stream",
          "text": [
            "Found 28709 images belonging to 7 classes.\n"
          ]
        }
      ],
      "source": [
        "from tensorflow.keras.preprocessing.image import ImageDataGenerator\n",
        "train_gen = ImageDataGenerator(rotation_range=20,\n",
        "                              rescale=1./255,\n",
        "                              shear_range=0.1,\n",
        "                              zoom_range=0.2,\n",
        "                              horizontal_flip=True,\n",
        "                              width_shift_range=0.1,\n",
        "                              height_shift_range=0.1)\n",
        "\n",
        "training_data = train_gen.flow_from_directory(train_dir,\n",
        "                                             target_size=(224,224),\n",
        "                                             batch_size=64,\n",
        "                                             color_mode = \"grayscale\",\n",
        "                                             class_mode = \"categorical\")"
      ]
    },
    {
      "cell_type": "code",
      "execution_count": null,
      "id": "1eaf1035",
      "metadata": {
        "execution": {
          "iopub.execute_input": "2021-10-03T04:38:46.613593Z",
          "iopub.status.busy": "2021-10-03T04:38:46.612810Z",
          "iopub.status.idle": "2021-10-03T04:38:47.145001Z",
          "shell.execute_reply": "2021-10-03T04:38:47.145516Z",
          "shell.execute_reply.started": "2021-10-02T05:26:33.628398Z"
        },
        "id": "1eaf1035",
        "outputId": "d3759070-e72b-4737-ea1d-28f0d4936959",
        "papermill": {
          "duration": 0.627911,
          "end_time": "2021-10-03T04:38:47.145714",
          "exception": false,
          "start_time": "2021-10-03T04:38:46.517803",
          "status": "completed"
        },
        "tags": []
      },
      "outputs": [
        {
          "name": "stdout",
          "output_type": "stream",
          "text": [
            "Found 7178 images belonging to 7 classes.\n"
          ]
        }
      ],
      "source": [
        "valid_gen = ImageDataGenerator(rescale=1./255)\n",
        "\n",
        "valid_data = valid_gen.flow_from_directory(test_dir,\n",
        "                                          target_size=(224,224),\n",
        "                                          batch_size=64,\n",
        "                                          color_mode='grayscale',\n",
        "                                          class_mode='categorical')"
      ]
    },
    {
      "cell_type": "code",
      "execution_count": null,
      "id": "26d1ddb8",
      "metadata": {
        "execution": {
          "iopub.execute_input": "2021-10-03T04:38:47.334178Z",
          "iopub.status.busy": "2021-10-03T04:38:47.333186Z",
          "iopub.status.idle": "2021-10-03T04:38:52.828368Z",
          "shell.execute_reply": "2021-10-03T04:38:52.827180Z",
          "shell.execute_reply.started": "2021-10-02T05:26:55.669219Z"
        },
        "id": "26d1ddb8",
        "outputId": "a81d67c2-828e-4b92-921f-1280110fb85e",
        "papermill": {
          "duration": 5.592892,
          "end_time": "2021-10-03T04:38:52.828524",
          "exception": false,
          "start_time": "2021-10-03T04:38:47.235632",
          "status": "completed"
        },
        "tags": []
      },
      "outputs": [
        {
          "name": "stderr",
          "output_type": "stream",
          "text": [
            "2021-10-03 04:38:47.360864: I tensorflow/compiler/jit/xla_cpu_device.cc:41] Not creating XLA devices, tf_xla_enable_xla_devices not set\n",
            "2021-10-03 04:38:47.364714: I tensorflow/stream_executor/platform/default/dso_loader.cc:49] Successfully opened dynamic library libcuda.so.1\n",
            "2021-10-03 04:38:47.407151: I tensorflow/stream_executor/cuda/cuda_gpu_executor.cc:941] successful NUMA node read from SysFS had negative value (-1), but there must be at least one NUMA node, so returning NUMA node zero\n",
            "2021-10-03 04:38:47.408195: I tensorflow/core/common_runtime/gpu/gpu_device.cc:1720] Found device 0 with properties: \n",
            "pciBusID: 0000:00:04.0 name: Tesla P100-PCIE-16GB computeCapability: 6.0\n",
            "coreClock: 1.3285GHz coreCount: 56 deviceMemorySize: 15.90GiB deviceMemoryBandwidth: 681.88GiB/s\n",
            "2021-10-03 04:38:47.408244: I tensorflow/stream_executor/platform/default/dso_loader.cc:49] Successfully opened dynamic library libcudart.so.11.0\n",
            "2021-10-03 04:38:47.441922: I tensorflow/stream_executor/platform/default/dso_loader.cc:49] Successfully opened dynamic library libcublas.so.11\n",
            "2021-10-03 04:38:47.442113: I tensorflow/stream_executor/platform/default/dso_loader.cc:49] Successfully opened dynamic library libcublasLt.so.11\n",
            "2021-10-03 04:38:47.461446: I tensorflow/stream_executor/platform/default/dso_loader.cc:49] Successfully opened dynamic library libcufft.so.10\n",
            "2021-10-03 04:38:47.475592: I tensorflow/stream_executor/platform/default/dso_loader.cc:49] Successfully opened dynamic library libcurand.so.10\n",
            "2021-10-03 04:38:47.507259: I tensorflow/stream_executor/platform/default/dso_loader.cc:49] Successfully opened dynamic library libcusolver.so.10\n",
            "2021-10-03 04:38:47.520321: I tensorflow/stream_executor/platform/default/dso_loader.cc:49] Successfully opened dynamic library libcusparse.so.11\n",
            "2021-10-03 04:38:47.524214: I tensorflow/stream_executor/platform/default/dso_loader.cc:49] Successfully opened dynamic library libcudnn.so.8\n",
            "2021-10-03 04:38:47.524864: I tensorflow/stream_executor/cuda/cuda_gpu_executor.cc:941] successful NUMA node read from SysFS had negative value (-1), but there must be at least one NUMA node, so returning NUMA node zero\n",
            "2021-10-03 04:38:47.526282: I tensorflow/stream_executor/cuda/cuda_gpu_executor.cc:941] successful NUMA node read from SysFS had negative value (-1), but there must be at least one NUMA node, so returning NUMA node zero\n",
            "2021-10-03 04:38:47.530183: I tensorflow/core/common_runtime/gpu/gpu_device.cc:1862] Adding visible gpu devices: 0\n",
            "2021-10-03 04:38:47.531117: I tensorflow/core/platform/cpu_feature_guard.cc:142] This TensorFlow binary is optimized with oneAPI Deep Neural Network Library (oneDNN) to use the following CPU instructions in performance-critical operations:  AVX2 FMA\n",
            "To enable them in other operations, rebuild TensorFlow with the appropriate compiler flags.\n",
            "2021-10-03 04:38:47.531461: I tensorflow/compiler/jit/xla_gpu_device.cc:99] Not creating XLA devices, tf_xla_enable_xla_devices not set\n",
            "2021-10-03 04:38:47.531659: I tensorflow/stream_executor/cuda/cuda_gpu_executor.cc:941] successful NUMA node read from SysFS had negative value (-1), but there must be at least one NUMA node, so returning NUMA node zero\n",
            "2021-10-03 04:38:47.534489: I tensorflow/core/common_runtime/gpu/gpu_device.cc:1720] Found device 0 with properties: \n",
            "pciBusID: 0000:00:04.0 name: Tesla P100-PCIE-16GB computeCapability: 6.0\n",
            "coreClock: 1.3285GHz coreCount: 56 deviceMemorySize: 15.90GiB deviceMemoryBandwidth: 681.88GiB/s\n",
            "2021-10-03 04:38:47.534568: I tensorflow/stream_executor/platform/default/dso_loader.cc:49] Successfully opened dynamic library libcudart.so.11.0\n",
            "2021-10-03 04:38:47.534629: I tensorflow/stream_executor/platform/default/dso_loader.cc:49] Successfully opened dynamic library libcublas.so.11\n",
            "2021-10-03 04:38:47.534687: I tensorflow/stream_executor/platform/default/dso_loader.cc:49] Successfully opened dynamic library libcublasLt.so.11\n",
            "2021-10-03 04:38:47.534743: I tensorflow/stream_executor/platform/default/dso_loader.cc:49] Successfully opened dynamic library libcufft.so.10\n",
            "2021-10-03 04:38:47.534812: I tensorflow/stream_executor/platform/default/dso_loader.cc:49] Successfully opened dynamic library libcurand.so.10\n",
            "2021-10-03 04:38:47.534866: I tensorflow/stream_executor/platform/default/dso_loader.cc:49] Successfully opened dynamic library libcusolver.so.10\n",
            "2021-10-03 04:38:47.534920: I tensorflow/stream_executor/platform/default/dso_loader.cc:49] Successfully opened dynamic library libcusparse.so.11\n",
            "2021-10-03 04:38:47.534972: I tensorflow/stream_executor/platform/default/dso_loader.cc:49] Successfully opened dynamic library libcudnn.so.8\n",
            "2021-10-03 04:38:47.535119: I tensorflow/stream_executor/cuda/cuda_gpu_executor.cc:941] successful NUMA node read from SysFS had negative value (-1), but there must be at least one NUMA node, so returning NUMA node zero\n",
            "2021-10-03 04:38:47.536503: I tensorflow/stream_executor/cuda/cuda_gpu_executor.cc:941] successful NUMA node read from SysFS had negative value (-1), but there must be at least one NUMA node, so returning NUMA node zero\n",
            "2021-10-03 04:38:47.537699: I tensorflow/core/common_runtime/gpu/gpu_device.cc:1862] Adding visible gpu devices: 0\n",
            "2021-10-03 04:38:47.539068: I tensorflow/stream_executor/platform/default/dso_loader.cc:49] Successfully opened dynamic library libcudart.so.11.0\n",
            "2021-10-03 04:38:49.591644: I tensorflow/core/common_runtime/gpu/gpu_device.cc:1261] Device interconnect StreamExecutor with strength 1 edge matrix:\n",
            "2021-10-03 04:38:49.591702: I tensorflow/core/common_runtime/gpu/gpu_device.cc:1267]      0 \n",
            "2021-10-03 04:38:49.591718: I tensorflow/core/common_runtime/gpu/gpu_device.cc:1280] 0:   N \n",
            "2021-10-03 04:38:49.594627: I tensorflow/stream_executor/cuda/cuda_gpu_executor.cc:941] successful NUMA node read from SysFS had negative value (-1), but there must be at least one NUMA node, so returning NUMA node zero\n",
            "2021-10-03 04:38:49.595802: I tensorflow/stream_executor/cuda/cuda_gpu_executor.cc:941] successful NUMA node read from SysFS had negative value (-1), but there must be at least one NUMA node, so returning NUMA node zero\n",
            "2021-10-03 04:38:49.597077: I tensorflow/stream_executor/cuda/cuda_gpu_executor.cc:941] successful NUMA node read from SysFS had negative value (-1), but there must be at least one NUMA node, so returning NUMA node zero\n",
            "2021-10-03 04:38:49.598264: I tensorflow/core/common_runtime/gpu/gpu_device.cc:1406] Created TensorFlow device (/job:localhost/replica:0/task:0/device:GPU:0 with 14957 MB memory) -> physical GPU (device: 0, name: Tesla P100-PCIE-16GB, pci bus id: 0000:00:04.0, compute capability: 6.0)\n"
          ]
        },
        {
          "name": "stdout",
          "output_type": "stream",
          "text": [
            "Downloading data from https://storage.googleapis.com/tensorflow/keras-applications/vgg19/vgg19_weights_tf_dim_ordering_tf_kernels_notop.h5\n",
            "80142336/80134624 [==============================] - 2s 0us/step\n"
          ]
        }
      ],
      "source": [
        "from tensorflow.keras.applications.vgg19 import VGG19\n",
        "\n",
        "vgg = VGG19(weights='imagenet', include_top=False)\n",
        "\n",
        "for layer in vgg.layers:\n",
        "    layer.trainable = False"
      ]
    },
    {
      "cell_type": "code",
      "execution_count": null,
      "id": "cb9a265a",
      "metadata": {
        "execution": {
          "iopub.execute_input": "2021-10-03T04:38:53.034296Z",
          "iopub.status.busy": "2021-10-03T04:38:53.032679Z",
          "iopub.status.idle": "2021-10-03T04:38:53.126856Z",
          "shell.execute_reply": "2021-10-03T04:38:53.125895Z",
          "shell.execute_reply.started": "2021-10-02T05:27:08.359216Z"
        },
        "id": "cb9a265a",
        "papermill": {
          "duration": 0.202541,
          "end_time": "2021-10-03T04:38:53.127057",
          "exception": false,
          "start_time": "2021-10-03T04:38:52.924516",
          "status": "completed"
        },
        "tags": []
      },
      "outputs": [],
      "source": [
        "from tensorflow.keras.layers import Conv2D, BatchNormalization, MaxPool2D, Dropout, Flatten, Dense, Input\n",
        "from tensorflow.keras.models import Model\n",
        "\n",
        "input = Input(shape=(224,224,1))\n",
        "\n",
        "conv = Conv2D(3, kernel_size=(3,3), padding='same')(input)\n",
        "\n",
        "vgg = vgg(conv)\n",
        "    \n",
        "x = Flatten()(vgg)\n",
        "\n",
        "pred = Dense(7, activation='softmax')(x)\n",
        "\n",
        "model = Model(inputs=input, outputs=pred)"
      ]
    },
    {
      "cell_type": "code",
      "execution_count": null,
      "id": "5ee9e9be",
      "metadata": {
        "_kg_hide-input": true,
        "execution": {
          "iopub.execute_input": "2021-10-03T04:38:53.323724Z",
          "iopub.status.busy": "2021-10-03T04:38:53.322606Z",
          "iopub.status.idle": "2021-10-03T04:38:53.324990Z",
          "shell.execute_reply": "2021-10-03T04:38:53.325594Z"
        },
        "id": "5ee9e9be",
        "papermill": {
          "duration": 0.103595,
          "end_time": "2021-10-03T04:38:53.325796",
          "exception": false,
          "start_time": "2021-10-03T04:38:53.222201",
          "status": "completed"
        },
        "scrolled": true,
        "tags": []
      },
      "outputs": [],
      "source": [
        "# from tensorflow.keras.layers import Conv2D, BatchNormalization, MaxPool2D, Dropout, Flatten, Dense\n",
        "\n",
        "# model = tf.keras.models.Sequential()\n",
        "\n",
        "# model.add(Conv2D(32, kernel_size=3, activation='relu', input_shape=(48, 48,1)))\n",
        "# model.add(Conv2D(32, kernel_size=3, activation='relu' ))\n",
        "# model.add(BatchNormalization())\n",
        "# model.add(MaxPool2D())\n",
        "# model.add(Dropout(0.2))\n",
        "\n",
        "# model.add(Conv2D(64, kernel_size=3, activation='relu'))\n",
        "# model.add(Conv2D(64, kernel_size=3, activation='relu' ))\n",
        "# model.add(BatchNormalization())\n",
        "# model.add(MaxPool2D())\n",
        "# model.add(Dropout(0.2))\n",
        "\n",
        "# model.add(Conv2D(128, kernel_size=3, activation='relu'))\n",
        "# model.add(Conv2D(128, kernel_size=3, activation='relu' ))\n",
        "# model.add(BatchNormalization())\n",
        "# model.add(MaxPool2D(pool_size=(3,3)))\n",
        "# model.add(Dropout(0.2))\n",
        "\n",
        "# model.add(Flatten())\n",
        "\n",
        "# model.add(Dense(128, activation='relu'))\n",
        "# model.add(Dropout(0.2))\n",
        "\n",
        "# model.add(Dense(256, activation='relu'))\n",
        "# model.add(Dropout(0.25))\n",
        "\n",
        "# model.add(Dense(7, activation='softmax'))\n",
        "\n",
        "# tf.keras.utils.plot_model(model, 'model.png')"
      ]
    },
    {
      "cell_type": "code",
      "execution_count": null,
      "id": "a694ce89",
      "metadata": {
        "execution": {
          "iopub.execute_input": "2021-10-03T04:38:53.526735Z",
          "iopub.status.busy": "2021-10-03T04:38:53.523249Z",
          "iopub.status.idle": "2021-10-03T04:38:53.531091Z",
          "shell.execute_reply": "2021-10-03T04:38:53.531793Z",
          "shell.execute_reply.started": "2021-10-02T05:27:17.499143Z"
        },
        "id": "a694ce89",
        "outputId": "89898a05-69c4-4238-c5b4-7f024a650980",
        "papermill": {
          "duration": 0.111469,
          "end_time": "2021-10-03T04:38:53.531965",
          "exception": false,
          "start_time": "2021-10-03T04:38:53.420496",
          "status": "completed"
        },
        "scrolled": true,
        "tags": []
      },
      "outputs": [
        {
          "name": "stdout",
          "output_type": "stream",
          "text": [
            "Model: \"model\"\n",
            "_________________________________________________________________\n",
            "Layer (type)                 Output Shape              Param #   \n",
            "=================================================================\n",
            "input_2 (InputLayer)         [(None, 224, 224, 1)]     0         \n",
            "_________________________________________________________________\n",
            "conv2d (Conv2D)              (None, 224, 224, 3)       30        \n",
            "_________________________________________________________________\n",
            "vgg19 (Functional)           (None, None, None, 512)   20024384  \n",
            "_________________________________________________________________\n",
            "flatten (Flatten)            (None, 25088)             0         \n",
            "_________________________________________________________________\n",
            "dense (Dense)                (None, 7)                 175623    \n",
            "=================================================================\n",
            "Total params: 20,200,037\n",
            "Trainable params: 175,653\n",
            "Non-trainable params: 20,024,384\n",
            "_________________________________________________________________\n"
          ]
        }
      ],
      "source": [
        "model.summary()"
      ]
    },
    {
      "cell_type": "code",
      "execution_count": null,
      "id": "8a72e971",
      "metadata": {
        "execution": {
          "iopub.execute_input": "2021-10-03T04:38:53.738084Z",
          "iopub.status.busy": "2021-10-03T04:38:53.737061Z",
          "iopub.status.idle": "2021-10-03T04:38:53.747057Z",
          "shell.execute_reply": "2021-10-03T04:38:53.747568Z",
          "shell.execute_reply.started": "2021-10-02T05:28:02.909579Z"
        },
        "id": "8a72e971",
        "papermill": {
          "duration": 0.12159,
          "end_time": "2021-10-03T04:38:53.747730",
          "exception": false,
          "start_time": "2021-10-03T04:38:53.626140",
          "status": "completed"
        },
        "tags": []
      },
      "outputs": [],
      "source": [
        "from tensorflow.keras.optimizers import Adam\n",
        "opt = Adam(learning_rate=0.0001)\n",
        "\n",
        "model.compile(optimizer = opt,\n",
        "              loss='categorical_crossentropy',\n",
        "              metrics=['accuracy']\n",
        ")"
      ]
    },
    {
      "cell_type": "code",
      "execution_count": null,
      "id": "5ebc5ddc",
      "metadata": {
        "_kg_hide-output": true,
        "execution": {
          "iopub.execute_input": "2021-10-03T04:38:53.942415Z",
          "iopub.status.busy": "2021-10-03T04:38:53.941590Z",
          "iopub.status.idle": "2021-10-03T10:29:31.079451Z",
          "shell.execute_reply": "2021-10-03T10:29:31.078653Z",
          "shell.execute_reply.started": "2021-10-02T05:28:27.544977Z"
        },
        "id": "5ebc5ddc",
        "outputId": "34972794-d603-422a-cdcc-f1bbb3e6906b",
        "papermill": {
          "duration": 21037.237789,
          "end_time": "2021-10-03T10:29:31.079627",
          "exception": false,
          "start_time": "2021-10-03T04:38:53.841838",
          "status": "completed"
        },
        "tags": []
      },
      "outputs": [
        {
          "name": "stderr",
          "output_type": "stream",
          "text": [
            "2021-10-03 04:38:54.511080: I tensorflow/compiler/mlir/mlir_graph_optimization_pass.cc:116] None of the MLIR optimization passes are enabled (registered 2)\n",
            "2021-10-03 04:38:54.515932: I tensorflow/core/platform/profile_utils/cpu_utils.cc:112] CPU Frequency: 2199995000 Hz\n"
          ]
        },
        {
          "name": "stdout",
          "output_type": "stream",
          "text": [
            "Epoch 1/100\n"
          ]
        },
        {
          "name": "stderr",
          "output_type": "stream",
          "text": [
            "2021-10-03 04:38:55.422189: I tensorflow/stream_executor/platform/default/dso_loader.cc:49] Successfully opened dynamic library libcublas.so.11\n",
            "2021-10-03 04:38:56.480274: I tensorflow/stream_executor/platform/default/dso_loader.cc:49] Successfully opened dynamic library libcublasLt.so.11\n",
            "2021-10-03 04:38:56.521982: I tensorflow/stream_executor/platform/default/dso_loader.cc:49] Successfully opened dynamic library libcudnn.so.8\n"
          ]
        },
        {
          "name": "stdout",
          "output_type": "stream",
          "text": [
            "449/449 [==============================] - 293s 624ms/step - loss: 1.7058 - accuracy: 0.3241 - val_loss: 1.4198 - val_accuracy: 0.4689\n",
            "Epoch 2/100\n",
            "449/449 [==============================] - 198s 440ms/step - loss: 1.4695 - accuracy: 0.4412 - val_loss: 1.3523 - val_accuracy: 0.4948\n",
            "Epoch 3/100\n",
            "449/449 [==============================] - 198s 441ms/step - loss: 1.3952 - accuracy: 0.4690 - val_loss: 1.3120 - val_accuracy: 0.5123\n",
            "Epoch 4/100\n",
            "449/449 [==============================] - 200s 444ms/step - loss: 1.3554 - accuracy: 0.4918 - val_loss: 1.2807 - val_accuracy: 0.5210\n",
            "Epoch 5/100\n",
            "449/449 [==============================] - 200s 444ms/step - loss: 1.3342 - accuracy: 0.4958 - val_loss: 1.2505 - val_accuracy: 0.5334\n",
            "Epoch 6/100\n",
            "449/449 [==============================] - 201s 447ms/step - loss: 1.3145 - accuracy: 0.5035 - val_loss: 1.2461 - val_accuracy: 0.5332\n",
            "Epoch 7/100\n",
            "449/449 [==============================] - 202s 449ms/step - loss: 1.2897 - accuracy: 0.5159 - val_loss: 1.2682 - val_accuracy: 0.5302\n",
            "Epoch 8/100\n",
            "449/449 [==============================] - 202s 449ms/step - loss: 1.2716 - accuracy: 0.5200 - val_loss: 1.2132 - val_accuracy: 0.5447\n",
            "Epoch 9/100\n",
            "449/449 [==============================] - 202s 450ms/step - loss: 1.2660 - accuracy: 0.5234 - val_loss: 1.2277 - val_accuracy: 0.5394\n",
            "Epoch 10/100\n",
            "449/449 [==============================] - 204s 453ms/step - loss: 1.2521 - accuracy: 0.5299 - val_loss: 1.2086 - val_accuracy: 0.5507\n",
            "Epoch 11/100\n",
            "449/449 [==============================] - 204s 453ms/step - loss: 1.2391 - accuracy: 0.5348 - val_loss: 1.2063 - val_accuracy: 0.5488\n",
            "Epoch 12/100\n",
            "449/449 [==============================] - 204s 453ms/step - loss: 1.2298 - accuracy: 0.5409 - val_loss: 1.2238 - val_accuracy: 0.5442\n",
            "Epoch 13/100\n",
            "449/449 [==============================] - 206s 457ms/step - loss: 1.2240 - accuracy: 0.5389 - val_loss: 1.1894 - val_accuracy: 0.5556\n",
            "Epoch 14/100\n",
            "449/449 [==============================] - 207s 460ms/step - loss: 1.2104 - accuracy: 0.5433 - val_loss: 1.1848 - val_accuracy: 0.5561\n",
            "Epoch 15/100\n",
            "449/449 [==============================] - 208s 462ms/step - loss: 1.2099 - accuracy: 0.5473 - val_loss: 1.1885 - val_accuracy: 0.5518\n",
            "Epoch 16/100\n",
            "449/449 [==============================] - 208s 463ms/step - loss: 1.2076 - accuracy: 0.5481 - val_loss: 1.2022 - val_accuracy: 0.5483\n",
            "Epoch 17/100\n",
            "449/449 [==============================] - 210s 467ms/step - loss: 1.1982 - accuracy: 0.5511 - val_loss: 1.1836 - val_accuracy: 0.5549\n",
            "Epoch 18/100\n",
            "449/449 [==============================] - 210s 468ms/step - loss: 1.2002 - accuracy: 0.5467 - val_loss: 1.1895 - val_accuracy: 0.5624\n",
            "Epoch 19/100\n",
            "449/449 [==============================] - 210s 468ms/step - loss: 1.1915 - accuracy: 0.5510 - val_loss: 1.1844 - val_accuracy: 0.5541\n",
            "Epoch 20/100\n",
            "449/449 [==============================] - 209s 466ms/step - loss: 1.1830 - accuracy: 0.5568 - val_loss: 1.1769 - val_accuracy: 0.5578\n",
            "Epoch 21/100\n",
            "449/449 [==============================] - 210s 468ms/step - loss: 1.1659 - accuracy: 0.5678 - val_loss: 1.1725 - val_accuracy: 0.5595\n",
            "Epoch 22/100\n",
            "449/449 [==============================] - 211s 470ms/step - loss: 1.1774 - accuracy: 0.5632 - val_loss: 1.1602 - val_accuracy: 0.5645\n",
            "Epoch 23/100\n",
            "449/449 [==============================] - 210s 468ms/step - loss: 1.1623 - accuracy: 0.5674 - val_loss: 1.1821 - val_accuracy: 0.5578\n",
            "Epoch 24/100\n",
            "449/449 [==============================] - 206s 459ms/step - loss: 1.1677 - accuracy: 0.5652 - val_loss: 1.1685 - val_accuracy: 0.5609\n",
            "Epoch 25/100\n",
            "449/449 [==============================] - 206s 459ms/step - loss: 1.1661 - accuracy: 0.5632 - val_loss: 1.1615 - val_accuracy: 0.5641\n",
            "Epoch 26/100\n",
            "449/449 [==============================] - 207s 460ms/step - loss: 1.1615 - accuracy: 0.5687 - val_loss: 1.1634 - val_accuracy: 0.5695\n",
            "Epoch 27/100\n",
            "449/449 [==============================] - 208s 462ms/step - loss: 1.1575 - accuracy: 0.5671 - val_loss: 1.1671 - val_accuracy: 0.5676\n",
            "Epoch 28/100\n",
            "449/449 [==============================] - 207s 460ms/step - loss: 1.1535 - accuracy: 0.5671 - val_loss: 1.1527 - val_accuracy: 0.5680\n",
            "Epoch 29/100\n",
            "449/449 [==============================] - 209s 465ms/step - loss: 1.1481 - accuracy: 0.5715 - val_loss: 1.1586 - val_accuracy: 0.5667\n",
            "Epoch 30/100\n",
            "449/449 [==============================] - 208s 463ms/step - loss: 1.1422 - accuracy: 0.5733 - val_loss: 1.1810 - val_accuracy: 0.5570\n",
            "Epoch 31/100\n",
            "449/449 [==============================] - 208s 463ms/step - loss: 1.1497 - accuracy: 0.5688 - val_loss: 1.1811 - val_accuracy: 0.5595\n",
            "Epoch 32/100\n",
            "449/449 [==============================] - 209s 465ms/step - loss: 1.1387 - accuracy: 0.5752 - val_loss: 1.1563 - val_accuracy: 0.5688\n",
            "Epoch 33/100\n",
            "449/449 [==============================] - 209s 465ms/step - loss: 1.1342 - accuracy: 0.5738 - val_loss: 1.1653 - val_accuracy: 0.5667\n",
            "Epoch 34/100\n",
            "449/449 [==============================] - 209s 466ms/step - loss: 1.1445 - accuracy: 0.5702 - val_loss: 1.1576 - val_accuracy: 0.5706\n",
            "Epoch 35/100\n",
            "449/449 [==============================] - 210s 467ms/step - loss: 1.1238 - accuracy: 0.5788 - val_loss: 1.1845 - val_accuracy: 0.5616\n",
            "Epoch 36/100\n",
            "449/449 [==============================] - 209s 466ms/step - loss: 1.1279 - accuracy: 0.5821 - val_loss: 1.1474 - val_accuracy: 0.5747\n",
            "Epoch 37/100\n",
            "449/449 [==============================] - 210s 468ms/step - loss: 1.1250 - accuracy: 0.5796 - val_loss: 1.1489 - val_accuracy: 0.5685\n",
            "Epoch 38/100\n",
            "449/449 [==============================] - 210s 468ms/step - loss: 1.1089 - accuracy: 0.5891 - val_loss: 1.1559 - val_accuracy: 0.5671\n",
            "Epoch 39/100\n",
            "449/449 [==============================] - 210s 467ms/step - loss: 1.1203 - accuracy: 0.5811 - val_loss: 1.1494 - val_accuracy: 0.5720\n",
            "Epoch 40/100\n",
            "449/449 [==============================] - 211s 470ms/step - loss: 1.1193 - accuracy: 0.5820 - val_loss: 1.1726 - val_accuracy: 0.5673\n",
            "Epoch 41/100\n",
            "449/449 [==============================] - 210s 467ms/step - loss: 1.1241 - accuracy: 0.5823 - val_loss: 1.1581 - val_accuracy: 0.5733\n",
            "Epoch 42/100\n",
            "449/449 [==============================] - 207s 460ms/step - loss: 1.1192 - accuracy: 0.5851 - val_loss: 1.1576 - val_accuracy: 0.5694\n",
            "Epoch 43/100\n",
            "449/449 [==============================] - 212s 471ms/step - loss: 1.1176 - accuracy: 0.5851 - val_loss: 1.1919 - val_accuracy: 0.5589\n",
            "Epoch 44/100\n",
            "449/449 [==============================] - 212s 472ms/step - loss: 1.1312 - accuracy: 0.5768 - val_loss: 1.1632 - val_accuracy: 0.5685\n",
            "Epoch 45/100\n",
            "449/449 [==============================] - 211s 470ms/step - loss: 1.1173 - accuracy: 0.5834 - val_loss: 1.1669 - val_accuracy: 0.5681\n",
            "Epoch 46/100\n",
            "449/449 [==============================] - 212s 471ms/step - loss: 1.0982 - accuracy: 0.5887 - val_loss: 1.1441 - val_accuracy: 0.5706\n",
            "Epoch 47/100\n",
            "449/449 [==============================] - 209s 465ms/step - loss: 1.1024 - accuracy: 0.5917 - val_loss: 1.1469 - val_accuracy: 0.5741\n",
            "Epoch 48/100\n",
            "449/449 [==============================] - 209s 465ms/step - loss: 1.0995 - accuracy: 0.5885 - val_loss: 1.1449 - val_accuracy: 0.5765\n",
            "Epoch 49/100\n",
            "449/449 [==============================] - 203s 451ms/step - loss: 1.1035 - accuracy: 0.5933 - val_loss: 1.1555 - val_accuracy: 0.5717\n",
            "Epoch 50/100\n",
            "449/449 [==============================] - 209s 464ms/step - loss: 1.0992 - accuracy: 0.5889 - val_loss: 1.1702 - val_accuracy: 0.5656\n",
            "Epoch 51/100\n",
            "449/449 [==============================] - 204s 454ms/step - loss: 1.1070 - accuracy: 0.5817 - val_loss: 1.1519 - val_accuracy: 0.5716\n",
            "Epoch 52/100\n",
            "449/449 [==============================] - 210s 465ms/step - loss: 1.1006 - accuracy: 0.5920 - val_loss: 1.1640 - val_accuracy: 0.5731\n",
            "Epoch 53/100\n",
            "449/449 [==============================] - 204s 454ms/step - loss: 1.0959 - accuracy: 0.5918 - val_loss: 1.1558 - val_accuracy: 0.5756\n",
            "Epoch 54/100\n",
            "449/449 [==============================] - 210s 467ms/step - loss: 1.0925 - accuracy: 0.5930 - val_loss: 1.1488 - val_accuracy: 0.5765\n",
            "Epoch 55/100\n",
            "449/449 [==============================] - 205s 455ms/step - loss: 1.0952 - accuracy: 0.5943 - val_loss: 1.1604 - val_accuracy: 0.5711\n",
            "Epoch 56/100\n",
            "449/449 [==============================] - 210s 467ms/step - loss: 1.0979 - accuracy: 0.5921 - val_loss: 1.1700 - val_accuracy: 0.5723\n",
            "Epoch 57/100\n",
            "449/449 [==============================] - 204s 455ms/step - loss: 1.0857 - accuracy: 0.5962 - val_loss: 1.1415 - val_accuracy: 0.5769\n",
            "Epoch 58/100\n",
            "449/449 [==============================] - 212s 471ms/step - loss: 1.0963 - accuracy: 0.5922 - val_loss: 1.1454 - val_accuracy: 0.5775\n",
            "Epoch 59/100\n",
            "449/449 [==============================] - 205s 455ms/step - loss: 1.0828 - accuracy: 0.5990 - val_loss: 1.1373 - val_accuracy: 0.5801\n",
            "Epoch 60/100\n",
            "449/449 [==============================] - 211s 470ms/step - loss: 1.0928 - accuracy: 0.5920 - val_loss: 1.1440 - val_accuracy: 0.5776\n",
            "Epoch 61/100\n",
            "449/449 [==============================] - 205s 457ms/step - loss: 1.0874 - accuracy: 0.5923 - val_loss: 1.1493 - val_accuracy: 0.5750\n",
            "Epoch 62/100\n",
            "449/449 [==============================] - 212s 471ms/step - loss: 1.0882 - accuracy: 0.5953 - val_loss: 1.1697 - val_accuracy: 0.5743\n",
            "Epoch 63/100\n",
            "449/449 [==============================] - 206s 458ms/step - loss: 1.0994 - accuracy: 0.5900 - val_loss: 1.1569 - val_accuracy: 0.5722\n",
            "Epoch 64/100\n",
            "449/449 [==============================] - 212s 472ms/step - loss: 1.0860 - accuracy: 0.5985 - val_loss: 1.1734 - val_accuracy: 0.5690\n",
            "Epoch 65/100\n",
            "449/449 [==============================] - 205s 456ms/step - loss: 1.0989 - accuracy: 0.5901 - val_loss: 1.1630 - val_accuracy: 0.5713\n",
            "Epoch 66/100\n",
            "449/449 [==============================] - 213s 474ms/step - loss: 1.0834 - accuracy: 0.5951 - val_loss: 1.1557 - val_accuracy: 0.5752\n",
            "Epoch 67/100\n",
            "449/449 [==============================] - 206s 457ms/step - loss: 1.0892 - accuracy: 0.5920 - val_loss: 1.1365 - val_accuracy: 0.5811\n",
            "Epoch 68/100\n",
            "449/449 [==============================] - 213s 474ms/step - loss: 1.0854 - accuracy: 0.5977 - val_loss: 1.1432 - val_accuracy: 0.5775\n",
            "Epoch 69/100\n",
            "449/449 [==============================] - 206s 457ms/step - loss: 1.0823 - accuracy: 0.5926 - val_loss: 1.1401 - val_accuracy: 0.5794\n",
            "Epoch 70/100\n",
            "449/449 [==============================] - 213s 475ms/step - loss: 1.0800 - accuracy: 0.5969 - val_loss: 1.1645 - val_accuracy: 0.5733\n",
            "Epoch 71/100\n",
            "449/449 [==============================] - 207s 460ms/step - loss: 1.0720 - accuracy: 0.6010 - val_loss: 1.1691 - val_accuracy: 0.5634\n",
            "Epoch 72/100\n",
            "449/449 [==============================] - 214s 476ms/step - loss: 1.0808 - accuracy: 0.5978 - val_loss: 1.1440 - val_accuracy: 0.5775\n",
            "Epoch 73/100\n",
            "449/449 [==============================] - 207s 460ms/step - loss: 1.0745 - accuracy: 0.6020 - val_loss: 1.1488 - val_accuracy: 0.5775\n",
            "Epoch 74/100\n",
            "449/449 [==============================] - 214s 477ms/step - loss: 1.0721 - accuracy: 0.5998 - val_loss: 1.1415 - val_accuracy: 0.5759\n",
            "Epoch 75/100\n",
            "449/449 [==============================] - 206s 459ms/step - loss: 1.0825 - accuracy: 0.5939 - val_loss: 1.1458 - val_accuracy: 0.5761\n",
            "Epoch 76/100\n",
            "449/449 [==============================] - 214s 476ms/step - loss: 1.0798 - accuracy: 0.5941 - val_loss: 1.1711 - val_accuracy: 0.5694\n",
            "Epoch 77/100\n",
            "449/449 [==============================] - 208s 463ms/step - loss: 1.0824 - accuracy: 0.5943 - val_loss: 1.1534 - val_accuracy: 0.5790\n",
            "Epoch 78/100\n",
            "449/449 [==============================] - 214s 476ms/step - loss: 1.0675 - accuracy: 0.5976 - val_loss: 1.1756 - val_accuracy: 0.5720\n",
            "Epoch 79/100\n",
            "449/449 [==============================] - 207s 460ms/step - loss: 1.0930 - accuracy: 0.5893 - val_loss: 1.1471 - val_accuracy: 0.5804\n",
            "Epoch 80/100\n",
            "449/449 [==============================] - 208s 463ms/step - loss: 1.0728 - accuracy: 0.6024 - val_loss: 1.1554 - val_accuracy: 0.5814\n",
            "Epoch 81/100\n",
            "449/449 [==============================] - 210s 466ms/step - loss: 1.0780 - accuracy: 0.6022 - val_loss: 1.1573 - val_accuracy: 0.5730\n",
            "Epoch 82/100\n",
            "449/449 [==============================] - 207s 462ms/step - loss: 1.0793 - accuracy: 0.5949 - val_loss: 1.1524 - val_accuracy: 0.5812\n",
            "Epoch 83/100\n",
            "449/449 [==============================] - 216s 480ms/step - loss: 1.0699 - accuracy: 0.6055 - val_loss: 1.1458 - val_accuracy: 0.5768\n",
            "Epoch 84/100\n",
            "449/449 [==============================] - 206s 458ms/step - loss: 1.0621 - accuracy: 0.6037 - val_loss: 1.1591 - val_accuracy: 0.5772\n",
            "Epoch 85/100\n",
            "449/449 [==============================] - 222s 495ms/step - loss: 1.0762 - accuracy: 0.6006 - val_loss: 1.1425 - val_accuracy: 0.5754\n",
            "Epoch 86/100\n",
            "449/449 [==============================] - 216s 480ms/step - loss: 1.0643 - accuracy: 0.5996 - val_loss: 1.1351 - val_accuracy: 0.5837\n",
            "Epoch 87/100\n",
            "449/449 [==============================] - 226s 504ms/step - loss: 1.0603 - accuracy: 0.6033 - val_loss: 1.1600 - val_accuracy: 0.5683\n",
            "Epoch 88/100\n",
            "449/449 [==============================] - 217s 482ms/step - loss: 1.0728 - accuracy: 0.5968 - val_loss: 1.1630 - val_accuracy: 0.5676\n",
            "Epoch 89/100\n",
            "449/449 [==============================] - 228s 507ms/step - loss: 1.0658 - accuracy: 0.6046 - val_loss: 1.1402 - val_accuracy: 0.5801\n",
            "Epoch 90/100\n",
            "449/449 [==============================] - 220s 491ms/step - loss: 1.0773 - accuracy: 0.5988 - val_loss: 1.1496 - val_accuracy: 0.5766\n",
            "Epoch 91/100\n",
            "449/449 [==============================] - 229s 509ms/step - loss: 1.0783 - accuracy: 0.5967 - val_loss: 1.1787 - val_accuracy: 0.5705\n",
            "Epoch 92/100\n",
            "449/449 [==============================] - 217s 484ms/step - loss: 1.0638 - accuracy: 0.6029 - val_loss: 1.1543 - val_accuracy: 0.5720\n",
            "Epoch 93/100\n",
            "449/449 [==============================] - 228s 507ms/step - loss: 1.0559 - accuracy: 0.6067 - val_loss: 1.1796 - val_accuracy: 0.5731\n",
            "Epoch 94/100\n",
            "449/449 [==============================] - 215s 478ms/step - loss: 1.0720 - accuracy: 0.6011 - val_loss: 1.1542 - val_accuracy: 0.5733\n",
            "Epoch 95/100\n",
            "449/449 [==============================] - 225s 501ms/step - loss: 1.0800 - accuracy: 0.5936 - val_loss: 1.1663 - val_accuracy: 0.5705\n",
            "Epoch 96/100\n",
            "449/449 [==============================] - 209s 465ms/step - loss: 1.0744 - accuracy: 0.6018 - val_loss: 1.1654 - val_accuracy: 0.5758\n",
            "Epoch 97/100\n",
            "449/449 [==============================] - 216s 481ms/step - loss: 1.0657 - accuracy: 0.6060 - val_loss: 1.1429 - val_accuracy: 0.5833\n",
            "Epoch 98/100\n",
            "449/449 [==============================] - 209s 465ms/step - loss: 1.0674 - accuracy: 0.6019 - val_loss: 1.1540 - val_accuracy: 0.5769\n",
            "Epoch 99/100\n",
            "449/449 [==============================] - 211s 470ms/step - loss: 1.0731 - accuracy: 0.5994 - val_loss: 1.1577 - val_accuracy: 0.5733\n",
            "Epoch 100/100\n",
            "449/449 [==============================] - 198s 440ms/step - loss: 1.0591 - accuracy: 0.6049 - val_loss: 1.1422 - val_accuracy: 0.5801\n"
          ]
        }
      ],
      "source": [
        "history = model.fit(training_data, epochs=100, validation_data = valid_data)"
      ]
    },
    {
      "cell_type": "code",
      "execution_count": null,
      "id": "c977fc55",
      "metadata": {
        "execution": {
          "iopub.execute_input": "2021-10-03T10:30:03.540721Z",
          "iopub.status.busy": "2021-10-03T10:30:03.539342Z",
          "iopub.status.idle": "2021-10-03T10:30:04.151617Z",
          "shell.execute_reply": "2021-10-03T10:30:04.151044Z",
          "shell.execute_reply.started": "2021-10-02T05:39:16.582549Z"
        },
        "id": "c977fc55",
        "outputId": "7d4199bc-0fc9-4e0c-fee8-ee10f295942a",
        "papermill": {
          "duration": 17.238643,
          "end_time": "2021-10-03T10:30:04.151770",
          "exception": false,
          "start_time": "2021-10-03T10:29:46.913127",
          "status": "completed"
        },
        "tags": []
      },
      "outputs": [
        {
          "data": {
            "image/png": "[encoded data removed]",
            "text/plain": [
              "<Figure size 864x288 with 2 Axes>"
            ]
          },
          "metadata": {
            "needs_background": "light"
          },
          "output_type": "display_data"
        }
      ],
      "source": [
        "fig , ax = plt.subplots(1,2)\n",
        "train_acc = history.history['accuracy']\n",
        "train_loss = history.history['loss']\n",
        "fig.set_size_inches(12,4)\n",
        "\n",
        "ax[0].plot(history.history['accuracy'])\n",
        "ax[0].plot(history.history['val_accuracy'])\n",
        "ax[0].set_title('Training Accuracy vs Validation Accuracy')\n",
        "ax[0].set_ylabel('Accuracy')\n",
        "ax[0].set_xlabel('Epoch')\n",
        "ax[0].legend(['Train', 'Validation'], loc='upper left')\n",
        "\n",
        "ax[1].plot(history.history['loss'])\n",
        "ax[1].plot(history.history['val_loss'])\n",
        "ax[1].set_title('Training Loss vs Validation Loss')\n",
        "ax[1].set_ylabel('Loss')\n",
        "ax[1].set_xlabel('Epoch')\n",
        "ax[1].legend(['Train', 'Validation'], loc='upper left')\n",
        "\n",
        "plt.show()"
      ]
    },
    {
      "cell_type": "code",
      "execution_count": null,
      "id": "00d9b1b3",
      "metadata": {
        "execution": {
          "iopub.execute_input": "2021-10-03T10:30:37.461560Z",
          "iopub.status.busy": "2021-10-03T10:30:37.460124Z",
          "iopub.status.idle": "2021-10-03T10:33:23.583662Z",
          "shell.execute_reply": "2021-10-03T10:33:23.584204Z",
          "shell.execute_reply.started": "2021-10-02T05:39:24.067288Z"
        },
        "id": "00d9b1b3",
        "outputId": "f7f3a3ef-eed9-48c8-82c2-80a3c24b277a",
        "papermill": {
          "duration": 183.488771,
          "end_time": "2021-10-03T10:33:23.584446",
          "exception": false,
          "start_time": "2021-10-03T10:30:20.095675",
          "status": "completed"
        },
        "tags": []
      },
      "outputs": [
        {
          "name": "stdout",
          "output_type": "stream",
          "text": [
            "449/449 [==============================] - 150s 335ms/step - loss: 1.0535 - accuracy: 0.6087\n",
            "113/113 [==============================] - 15s 134ms/step - loss: 1.1422 - accuracy: 0.5801\n"
          ]
        }
      ],
      "source": [
        "train_loss, train_acc = model.evaluate(training_data)\n",
        "test_loss, test_acc = model.evaluate(valid_data)"
      ]
    },
    {
      "cell_type": "code",
      "execution_count": null,
      "id": "3a2ec627",
      "metadata": {
        "execution": {
          "iopub.execute_input": "2021-10-03T10:33:56.836885Z",
          "iopub.status.busy": "2021-10-03T10:33:56.835825Z",
          "iopub.status.idle": "2021-10-03T10:33:57.107709Z",
          "shell.execute_reply": "2021-10-03T10:33:57.106608Z",
          "shell.execute_reply.started": "2021-10-02T05:42:28.893036Z"
        },
        "id": "3a2ec627",
        "outputId": "b752cd78-597f-4470-a473-7e6f58536e7e",
        "papermill": {
          "duration": 17.479757,
          "end_time": "2021-10-03T10:33:57.107871",
          "exception": false,
          "start_time": "2021-10-03T10:33:39.628114",
          "status": "completed"
        },
        "tags": []
      },
      "outputs": [
        {
          "data": {
            "text/plain": [
              "<matplotlib.image.AxesImage at 0x7f09c18eb6d0>"
            ]
          },
          "execution_count": 15,
          "metadata": {},
          "output_type": "execute_result"
        },
        {
          "data": {
            "image/png": "[encoded data removed]",
            "text/plain": [
              "<Figure size 432x288 with 1 Axes>"
            ]
          },
          "metadata": {
            "needs_background": "light"
          },
          "output_type": "display_data"
        }
      ],
      "source": [
        "test_img = image.load_img('../input/fer2013/test/angry/PrivateTest_13278552.jpg',target_size = (224,224),color_mode = \"grayscale\")\n",
        "plt.imshow(test_img)"
      ]
    },
    {
      "cell_type": "code",
      "execution_count": null,
      "id": "6644d0f1",
      "metadata": {
        "execution": {
          "iopub.execute_input": "2021-10-03T10:34:30.715320Z",
          "iopub.status.busy": "2021-10-03T10:34:30.714237Z",
          "iopub.status.idle": "2021-10-03T10:34:31.220079Z",
          "shell.execute_reply": "2021-10-03T10:34:31.219540Z",
          "shell.execute_reply.started": "2021-10-02T05:42:32.612143Z"
        },
        "id": "6644d0f1",
        "outputId": "52fbcd08-7182-4233-f073-851139b886c2",
        "papermill": {
          "duration": 17.675456,
          "end_time": "2021-10-03T10:34:31.220223",
          "exception": false,
          "start_time": "2021-10-03T10:34:13.544767",
          "status": "completed"
        },
        "tags": []
      },
      "outputs": [
        {
          "name": "stdout",
          "output_type": "stream",
          "text": [
            "Angry\n"
          ]
        }
      ],
      "source": [
        "label_dict = {0:'Angry',1:'Disgust',2:'Fear',3:'Happy',4:'Neutral',5:'Sad',6:'Surprise'}\n",
        "\n",
        "test_img = np.expand_dims(test_img,axis = 0)\n",
        "test_img = test_img.reshape(1,224,224,1)\n",
        "result = model.predict(test_img)\n",
        "result = list(result[0])\n",
        "\n",
        "img_index = result.index(max(result))\n",
        "print(label_dict[img_index])"
      ]
    },
    {
      "cell_type": "code",
      "execution_count": null,
      "id": "e28792bc",
      "metadata": {
        "execution": {
          "iopub.execute_input": "2021-10-03T10:35:04.535772Z",
          "iopub.status.busy": "2021-10-03T10:35:04.534573Z",
          "iopub.status.idle": "2021-10-03T10:35:04.708964Z",
          "shell.execute_reply": "2021-10-03T10:35:04.708382Z"
        },
        "id": "e28792bc",
        "papermill": {
          "duration": 17.316397,
          "end_time": "2021-10-03T10:35:04.709119",
          "exception": false,
          "start_time": "2021-10-03T10:34:47.392722",
          "status": "completed"
        },
        "tags": []
      },
      "outputs": [],
      "source": [
        "model.save('model_optimal.h5')"
      ]
    }
  ],
  "metadata": {
    "colab": {
      "name": "facial-emotion-recognition-training.ipynb",
      "provenance": []
    },
    "kernelspec": {
      "display_name": "base",
      "language": "python",
      "name": "python3"
    },
    "language_info": {
      "codemirror_mode": {
        "name": "ipython",
        "version": 3
      },
      "file_extension": ".py",
      "mimetype": "text/x-python",
      "name": "python",
      "nbconvert_exporter": "python",
      "pygments_lexer": "ipython3",
      "version": "3.13.5"
    },
    "papermill": {
      "default_parameters": {},
      "duration": 21440.08996,
      "end_time": "2021-10-03T10:35:24.266103",
      "environment_variables": {},
      "exception": null,
      "input_path": "__notebook__.ipynb",
      "output_path": "__notebook__.ipynb",
      "parameters": {},
      "start_time": "2021-10-03T04:38:04.176143",
      "version": "2.3.3"
    }
  },
  "nbformat": 4,
  "nbformat_minor": 5
}
